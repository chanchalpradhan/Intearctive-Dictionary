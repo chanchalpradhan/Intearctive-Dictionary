{
 "cells": [
  {
   "cell_type": "code",
   "execution_count": 1,
   "metadata": {},
   "outputs": [],
   "source": [
    "import json\n",
    "import difflib as d"
   ]
  },
  {
   "cell_type": "code",
   "execution_count": 2,
   "metadata": {},
   "outputs": [],
   "source": [
    "data = json.load(open('data.json'))"
   ]
  },
  {
   "cell_type": "code",
   "execution_count": 3,
   "metadata": {},
   "outputs": [],
   "source": [
    "def define(w):\n",
    "    if w in data:\n",
    "        return data[w]\n",
    "    elif len(d.get_close_matches(w, data.keys())) > 0:\n",
    "        most_close = d.get_close_matches(w, data.keys())[0]\n",
    "        choice = input('Do you mean %s instead of %s, press y for yes and n for no:' %(most_close, w))\n",
    "        if choice == 'y':\n",
    "            return data[most_close]\n",
    "        else:\n",
    "            return 'Please check, you must have done some typo mistake.'\n",
    "    else:\n",
    "        return 'You mind is fucked up bro, have you smoke pot? There is no word like that in hell.'"
   ]
  },
  {
   "cell_type": "code",
   "execution_count": 4,
   "metadata": {},
   "outputs": [],
   "source": [
    "def run():\n",
    "    word = input('\\nEnter word to search its meaning:')\n",
    "    meanings = define(word.lower())\n",
    "\n",
    "    if type(meanings) == list:\n",
    "        for i, meaning in enumerate(meanings):\n",
    "            print(i+1, meaning)\n",
    "    else:\n",
    "        print(meanings)"
   ]
  },
  {
   "cell_type": "code",
   "execution_count": null,
   "metadata": {},
   "outputs": [
    {
     "name": "stdout",
     "output_type": "stream",
     "text": [
      "\n",
      "Enter word to search its meaning:mathematics\n",
      "1 The science that deals with concepts such as quantity, structure, space and change.\n",
      "\n",
      "Enter word to search its meaning:rainn\n",
      "Do you mean rain instead of rainn, press y for yes and n for no:y\n",
      "1 Precipitation in the form of liquid water drops with diameters greater than 0.5 millimetres.\n",
      "2 To fall from the clouds in drops of water.\n"
     ]
    }
   ],
   "source": [
    "while(True):\n",
    "    run()"
   ]
  },
  {
   "cell_type": "code",
   "execution_count": null,
   "metadata": {},
   "outputs": [],
   "source": []
  }
 ],
 "metadata": {
  "kernelspec": {
   "display_name": "Python 3",
   "language": "python",
   "name": "python3"
  },
  "language_info": {
   "codemirror_mode": {
    "name": "ipython",
    "version": 3
   },
   "file_extension": ".py",
   "mimetype": "text/x-python",
   "name": "python",
   "nbconvert_exporter": "python",
   "pygments_lexer": "ipython3",
   "version": "3.7.3"
  }
 },
 "nbformat": 4,
 "nbformat_minor": 2
}
